{
 "cells": [
  {
   "cell_type": "markdown",
   "metadata": {},
   "source": [
    "# Imports"
   ]
  },
  {
   "cell_type": "code",
   "execution_count": null,
   "metadata": {},
   "outputs": [],
   "source": [
    "# initial setup\n",
    "import os\n",
    "import asf_search as asf\n",
    "from eof.download import download_eofs\n",
    "from shapely.geometry import Polygon\n",
    "import pandas as pd\n",
    "import geopandas as gpd\n",
    "import cartopy\n",
    "import matplotlib.pyplot as plt\n",
    "import matplotlib.patches as mpatches"
   ]
  },
  {
   "cell_type": "markdown",
   "metadata": {},
   "source": [
    "# Settings"
   ]
  },
  {
   "cell_type": "code",
   "execution_count": null,
   "metadata": {},
   "outputs": [],
   "source": [
    "# paths\n",
    "data_dir = 'data'\n",
    "download_folder = os.path.join(data_dir,'scenes')\n",
    "credentials_path = \"credentials/credentials_earthdata.txt\"\n",
    "precise_orb_download_folder = os.path.join(data_dir,'orbits','POEORB')\n",
    "restituted_orb_download_folder = os.path.join(data_dir,'orbits','RESORB')\n",
    "dem_download_folder = os.path.join(data_dir,'dem')\n",
    "\n",
    "download = True # whether to download files"
   ]
  },
  {
   "cell_type": "code",
   "execution_count": null,
   "metadata": {},
   "outputs": [],
   "source": [
    "create_folders = True\n",
    "if create_folders:\n",
    "    for f in [download_folder, precise_orb_download_folder, restituted_orb_download_folder]:\n",
    "        os.makedirs(f, exist_ok=True)"
   ]
  },
  {
   "cell_type": "markdown",
   "metadata": {},
   "source": [
    "# Credentials"
   ]
  },
  {
   "cell_type": "code",
   "execution_count": null,
   "metadata": {},
   "outputs": [],
   "source": [
    "# read credentials from file\n",
    "with open(credentials_path, \"r\") as f:\n",
    "   txt = str(f.read())\n",
    "   uid = txt.split('\\n')[1].split('login')[-1][1:]\n",
    "   pswd = txt.split('\\n')[2].split('password')[-1][1:]\n",
    "   email = txt.split('\\n')[3].split('email')[-1][1:]"
   ]
  },
  {
   "cell_type": "markdown",
   "metadata": {},
   "source": [
    "# AOI"
   ]
  },
  {
   "cell_type": "code",
   "execution_count": null,
   "metadata": {},
   "outputs": [],
   "source": [
    "#wkt = \"POINT (113.66396 -66.163448)\" # Antarctica - Law Dome \n",
    "#wkt = \"POINT (166.7541 -77.7018)\" # Antarctica - Ross Island (CHECK)\n",
    "#wkt = \"POINT (76.19525 -69.4068)\" # Antarctica - Bharati/Davis Station\n",
    "#wkt = \"POINT (11.7308 -70.76683)\" # Antarctica - Maitri Station\n",
    "# wkt = \"POINT (73.543 -53.1057)\" # Antarctica - Heard/McDonald Island \n",
    "\n",
    "# wkt = \"POINT (150.5759  -27.0252)\" # Austraia - Surat Basin CRs \n",
    "# wkt = \"POINT (115.3461 -29.0474)\" # Austraia - Yaragadee \n",
    "# wkt = \"POINT (147.533333 -25.533333)\" # Austraia - Queensland Forest (-25o32'S and 147o32'E)\n",
    "\n",
    "wkt = 'POLYGON ((179 -80, 179.9 -80, 179.9 -65, 179 -65, 179 -80))' # Antarctica - Antimeridian, (bl,br,ur,ul,br)\n",
    "wkt = 'POLYGON ((179 -80, 179.9 -80, 179.9 -75, 179 -75, 179 -80))' # Antarctica - Antimeridian, (bl,br,ur,ul,br)\n",
    "\n",
    "print(f'Searching over point: {wkt}')"
   ]
  },
  {
   "cell_type": "markdown",
   "metadata": {},
   "source": [
    "# Search"
   ]
  },
  {
   "cell_type": "markdown",
   "metadata": {},
   "source": [
    "### General time and area search"
   ]
  },
  {
   "cell_type": "code",
   "execution_count": null,
   "metadata": {},
   "outputs": [],
   "source": [
    "# product type https://github.com/asfadmin/Discovery-asf_search/blob/master/asf_search/constants/PRODUCT_TYPE.py\n",
    "# prod = 'GRD_HS' # IW\n",
    "# prod = 'GRD_MD' # EW\n",
    "prod = 'SLC' # IW, SM\n",
    "\n",
    "# prod = 'GRD_HD'\n",
    "# prod = 'GRD_MS'\n",
    "# prod = 'GRD_FD'\n",
    "\n",
    "# acquisition mode\n",
    "mode = 'IW'\n",
    "#mode = 'EW'\n",
    "#mode = ['S1','S2','S3','S4','S5','S6'] # SM\n",
    "\n",
    "start_date = '2014-01-01T00:00:00Z'\n",
    "end_date = '2024-02-28T00:00:00Z'\n",
    "\n",
    "results = asf.search(platform=[asf.PLATFORM.SENTINEL1], \n",
    "                     intersectsWith=wkt, \n",
    "                     maxResults=1000, \n",
    "                     processingLevel=prod,\n",
    "                     beamMode=mode,\n",
    "                     start=start_date,\n",
    "                     end=end_date)\n",
    "print(len(results))"
   ]
  },
  {
   "cell_type": "markdown",
   "metadata": {},
   "source": [
    "### OR - Search for known products by their name"
   ]
  },
  {
   "cell_type": "code",
   "execution_count": null,
   "metadata": {},
   "outputs": [],
   "source": [
    "search_list = True\n",
    "if search_list:\n",
    "\n",
    "    prod = 'SLC'\n",
    "    mode = 'IW'\n",
    "    \n",
    "    scene_list = [\n",
    "        # Antarctica - Maitri Station (-70.76683, 11.7308)\n",
    "        'S1B_IW_SLC__1SSH_20190327T195016_20190327T195045_015544_01D236_9504',\n",
    "        # 'S1B_IW_SLC__1SSH_20190526T195018_20190526T195048_016419_01EE8D_53BC',\n",
    "        # 'S1B_IW_SLC__1SSH_20190315T195015_20190315T195045_015369_01CC73_DB8B',\n",
    "        # # Antarctica - Bharati Station (-69.4068, 76.19525)\n",
    "        # 'S1B_IW_SLC__1SSH_20190223T222639_20190223T222706_015079_01C2E9_1D63',\n",
    "        # 'S1A_IW_SLC__1SSH_20190605T222724_20190605T222751_027550_031BE1_AD3A',\n",
    "        # # Antarctica - Law Dome (-66.163448 113.66396)\n",
    "        # 'S1B_IW_SLC__1SSH_20211204T123606_20211204T123635_029875_039105_E7EC',\n",
    "        # 'S1A_IW_SLC__1SSH_20211210T123647_20211210T123716_040946_04DCF0_9FBA',\n",
    "        # 'S1B_IW_SLC__1SSH_20211216T123605_20211216T123634_030050_03968D_9501',\n",
    "        # # Antarctica - Ross Island (-77.7018, 166.7541)\n",
    "        # 'S1A_IW_SLC__1SSH_20211208T124745_20211208T124815_040917_04DBED_5CFF',\n",
    "        # 'S1A_IW_SLC__1SSH_20211220T124745_20211220T124815_041092_04E1C2_0475',\n",
    "        # 'S1A_IW_SLC__1SSH_20220101T124744_20220101T124814_041267_04E7A2_1DAD',\n",
    "        # # Antarctica - Heard/McDonald Island (-53.1057, 73.543) \n",
    "        # 'S1A_IW_SLC__1SSH_20220103T141935_20220103T142005_041297_04E8B4_9B44',\n",
    "        # 'S1A_IW_SLC__1SSH_20220108T142747_20220108T142815_041370_04EB2C_4E64',\n",
    "        # 'S1A_IW_SLC__1SSH_20220115T141935_20220115T142005_041472_04EE7C_9E3D',\n",
    "        # # Antarctica - Antimeridian (-70, 180) approx\n",
    "        # 'S1A_IW_SLC__1SSH_20220203T153614_20220203T153644_041750_04F7DF_8C3E',\n",
    "        # 'S1A_IW_SLC__1SSH_20220122T153615_20220122T153645_041575_04F1EF_9254',\n",
    "        # # Antarctica - Antimeridian (-75, 180) approx\n",
    "        # 'S1A_IW_SLC__1SDV_20191028T131928_20191028T131947_029659_0360CA_A1A0',\n",
    "        # 'S1A_IW_SLC__1SDH_20161201T131103_20161201T131131_014186_016EB7_F766',\n",
    "        # # Australia - Yaragadee (-29.0474, 115.3461) Descending (Only Avail)\n",
    "        # 'S1B_IW_SLC__1SDV_20211201T214143_20211201T214210_029837_038FD8_81C3',\n",
    "        # 'S1B_IW_SLC__1SDV_20211201T214208_20211201T214240_029837_038FD8_8B37',\n",
    "        # 'S1B_IW_SLC__1SDV_20211213T214143_20211213T214210_030012_039555_8753',\n",
    "        # # Australia - Queensland Forest (-25.533333 147.533333)\n",
    "        # 'S1A_IW_SLC__1SDV_20220121T193807_20220121T193834_041563_04F181_5804',\n",
    "        # 'S1A_IW_SLC__1SDV_20220202T084138_20220202T084206_041731_04F740_197D',\n",
    "        # 'S1A_IW_SLC__1SDV_20220202T084204_20220202T084231_041731_04F740_400F',\n",
    "        # # Australia - SURAT QLD corner reflector (-27.0252,150.5759) - ASCENDING MODE (REQUIRED)\n",
    "        # 'S1A_IW_SLC__1SSH_20220116T083314_20220116T083342_041483_04EED2_DB08',\n",
    "        # 'S1A_IW_SLC__1SSH_20220104T083315_20220104T083342_041308_04E91B_8E5F',\n",
    "        # 'S1B_IW_SLC__1SSH_20211216T123605_20211216T123634_030050_03968D_9501',\n",
    "   ]\n",
    "\n",
    "    # search the scene list with the specified product type\n",
    "    results = asf.granule_search(scene_list, asf.ASFSearchOptions(processingLevel=prod))"
   ]
  },
  {
   "cell_type": "code",
   "execution_count": null,
   "metadata": {},
   "outputs": [],
   "source": [
    "location_data = {'scene' : [], 'geometry' : []}\n",
    "\n",
    "for r in results:\n",
    "      scene_id = r.properties['sceneName']\n",
    "      print(scene_id)\n",
    "      points = (r.__dict__['umm']['SpatialExtent']['HorizontalSpatialDomain']\n",
    "                  ['Geometry']['GPolygons'][0]['Boundary']['Points'])\n",
    "      points = [(p['Longitude'],p['Latitude']) for p in points]\n",
    "      scene_poly = Polygon(points)\n",
    "      location_data['geometry'].append(scene_poly)\n",
    "      location_data['scene'].append(scene_id)"
   ]
  },
  {
   "cell_type": "code",
   "execution_count": null,
   "metadata": {},
   "outputs": [],
   "source": [
    "df = pd.DataFrame.from_dict(location_data)\n",
    "df = gpd.GeoDataFrame(df, geometry='geometry',crs=4326)\n",
    "df = df.to_crs(3031)\n",
    "df.plot()"
   ]
  },
  {
   "cell_type": "code",
   "execution_count": null,
   "metadata": {},
   "outputs": [],
   "source": [
    "def plot_results_footprint_map(df, \n",
    "                               title='', \n",
    "                               group='', \n",
    "                               group_colors = {},\n",
    "                               sort='', \n",
    "                               legend_title='', \n",
    "                               crs=3031,\n",
    "                               bounds=(-180, 180, -90, -50)):\n",
    "    # plot the the product geometries on a map\n",
    "    east, west, south, north = bounds\n",
    "    plt.rcParams[\"figure.figsize\"] = [10,8]\n",
    "    ax = plt.axes(projection=cartopy.crs.SouthPolarStereo())\n",
    "    ax.set_extent((east, west, south, north+1), cartopy.crs.PlateCarree())\n",
    "    ax.add_feature(cartopy.feature.LAND)\n",
    "    ax.add_feature(cartopy.feature.OCEAN)\n",
    "    proj = cartopy.crs.SouthPolarStereo() if crs==3031 else cartopy.crs.PlateCarree()\n",
    "    if not group:\n",
    "        ax.add_geometries(df.geometry, crs=proj, alpha=0.3, edgecolor='black')\n",
    "    else:\n",
    "        groups = df[group].unique() if not sort else df.sort_values(sort)[group].unique()\n",
    "        # generate N visually distinct colours\n",
    "        colors = plt.rcParams['axes.prop_cycle'].by_key()['color']\n",
    "        legend = []\n",
    "        for i,g in enumerate(groups):\n",
    "           colour = colors[i] if not group_colors else group_colors[g]\n",
    "           ax.add_geometries(df[df[group]==g].geometry, crs=proj, alpha=0.3, color=colour) \n",
    "           legend.append(mpatches.Patch(color=colour, label=g))\n",
    "        ax.legend(handles=legend, title= group if not legend_title else legend_title)\n",
    "    ax.gridlines(draw_labels=True)\n",
    "    ax.add_feature(cartopy.feature.COASTLINE)\n",
    "    plt.title(title)\n",
    "    plt.show()"
   ]
  },
  {
   "cell_type": "code",
   "execution_count": null,
   "metadata": {},
   "outputs": [],
   "source": [
    "df.to_file('test_sites_3031.json')"
   ]
  },
  {
   "cell_type": "code",
   "execution_count": null,
   "metadata": {},
   "outputs": [],
   "source": [
    "plot_results_footprint_map(df, \n",
    "                            title='', \n",
    "                            group='', \n",
    "                            group_colors = {},\n",
    "                            sort='', \n",
    "                            legend_title='', \n",
    "                            crs=3031,\n",
    "                            bounds=(-180, 180, -90, -50))"
   ]
  },
  {
   "cell_type": "markdown",
   "metadata": {},
   "source": [
    "# Download Scenes"
   ]
  },
  {
   "cell_type": "code",
   "execution_count": null,
   "metadata": {},
   "outputs": [],
   "source": [
    "# download\n",
    "session = asf.ASFSession()\n",
    "session.auth_with_creds(uid,pswd)"
   ]
  },
  {
   "cell_type": "code",
   "execution_count": null,
   "metadata": {},
   "outputs": [],
   "source": [
    "# download all results\n",
    "scene_paths = []\n",
    "scene_names = []\n",
    "if download:\n",
    "    for scene in results:\n",
    "        name = scene.__dict__['umm']['GranuleUR'].split('-')[0]\n",
    "        scene_names.append(name)\n",
    "        print(name)\n",
    "        path = os.path.join(download_folder, name)\n",
    "        scene.download(path=download_folder, session=session)\n",
    "        scene_paths.append(path)\n",
    "        break"
   ]
  },
  {
   "cell_type": "markdown",
   "metadata": {},
   "source": [
    "# Download Precise Orbit Files"
   ]
  },
  {
   "cell_type": "code",
   "execution_count": null,
   "metadata": {},
   "outputs": [],
   "source": [
    "for scene in  scene_paths:\n",
    "    print(scene)\n",
    "    # download precise orbits\n",
    "    download_eofs(sentinel_file=scene, save_dir=precise_orb_download_folder, orbit_type='precise')\n",
    "    # download restituted orbits\n",
    "    download_eofs(sentinel_file=scene, save_dir=restituted_orb_download_folder, orbit_type='restituted')"
   ]
  },
  {
   "cell_type": "code",
   "execution_count": null,
   "metadata": {},
   "outputs": [],
   "source": [
    "print('precise orbits')\n",
    "for p in os.listdir(precise_orb_download_folder):\n",
    "    print(os.path.join(precise_orb_download_folder,p))\n",
    "\n",
    "print('restited orbits')\n",
    "for p in os.listdir(restituted_orb_download_folder):\n",
    "    print(os.path.join(restituted_orb_download_folder,p))"
   ]
  },
  {
   "cell_type": "markdown",
   "metadata": {},
   "source": [
    "# DEMs"
   ]
  },
  {
   "cell_type": "code",
   "execution_count": null,
   "metadata": {},
   "outputs": [],
   "source": [
    "# add your credentials to a .netrc file\n",
    "# https://pypi.org/project/dem-stitcher/"
   ]
  },
  {
   "cell_type": "code",
   "execution_count": null,
   "metadata": {},
   "outputs": [],
   "source": [
    "import rasterio\n",
    "from dem_stitcher import stitch_dem\n",
    "from shapely.geometry import Polygon\n",
    "\n",
    "# valid DEM list here - # https://pypi.org/project/dem-stitcher/\n",
    "dem_name = 'glo_30'  # Global Copernicus 30 meter resolution DEM\n",
    "\n",
    "for r in results:\n",
    "    scene_name = r.__dict__['umm']['GranuleUR'].split('-')[0]\n",
    "    print(r.__dict__['umm']['GranuleUR'].split('-')[0])\n",
    "    points = (r.__dict__['umm']['SpatialExtent']['HorizontalSpatialDomain']\n",
    "              ['Geometry']['GPolygons'][0]['Boundary']['Points'])\n",
    "    points = [(p['Longitude'],p['Latitude']) for p in points]\n",
    "    poly = Polygon(points)\n",
    "    #bounds = poly.bounds # as xmin, ymin, xmax, ymax in epsg:4326\n",
    "    bounds = poly.buffer(1).bounds #buffered\n",
    "    print(f'downloding DEM for scene bounds : {bounds}')\n",
    "    # poly_3031 = transform_polygon(4326, 3031, poly, always_xy=True)\n",
    "    # poly = antimeridian.fix_polygon(poly)\n",
    "   \n",
    "    # get the DEM and geometry information\n",
    "    X, p = stitch_dem(bounds,\n",
    "                    dem_name=dem_name,\n",
    "                    dst_ellipsoidal_height=False,\n",
    "                    dst_area_or_point='Point')\n",
    "\n",
    "    # make folders and set filenames\n",
    "    dem_dl_folder = os.path.join(dem_download_folder,dem_name)\n",
    "    os.makedirs(dem_dl_folder, exist_ok=True)\n",
    "    dem_filename = scene_name + '_dem.tif'\n",
    "    save_path = os.path.join(dem_dl_folder,dem_filename)\n",
    "    \n",
    "    # save with rasterio\n",
    "    print(f'saving dem to {save_path}')\n",
    "    with rasterio.open(save_path, 'w', **p) as ds:\n",
    "        ds.write(X, 1)\n",
    "        ds.update_tags(AREA_OR_POINT='Point')"
   ]
  }
 ],
 "metadata": {
  "kernelspec": {
   "display_name": "pyroSAR",
   "language": "python",
   "name": "python3"
  },
  "language_info": {
   "codemirror_mode": {
    "name": "ipython",
    "version": 3
   },
   "file_extension": ".py",
   "mimetype": "text/x-python",
   "name": "python",
   "nbconvert_exporter": "python",
   "pygments_lexer": "ipython3",
   "version": "3.9.19"
  },
  "orig_nbformat": 4
 },
 "nbformat": 4,
 "nbformat_minor": 2
}

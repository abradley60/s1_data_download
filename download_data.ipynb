{
 "cells": [
  {
   "cell_type": "markdown",
   "metadata": {},
   "source": [
    "# Imports"
   ]
  },
  {
   "cell_type": "code",
   "execution_count": null,
   "metadata": {},
   "outputs": [],
   "source": [
    "# initial setup\n",
    "import os\n",
    "import asf_search as asf\n",
    "from eof.download import download_eofs"
   ]
  },
  {
   "cell_type": "markdown",
   "metadata": {},
   "source": [
    "# Settings"
   ]
  },
  {
   "cell_type": "code",
   "execution_count": null,
   "metadata": {},
   "outputs": [],
   "source": [
    "# paths\n",
    "data_dir = '/data'\n",
    "download_folder = os.path.join(data_dir,'scenes')\n",
    "credentials_path = \"credentials/credentials_earthdata.txt\"\n",
    "precise_orb_download_folder = os.path.join(data_dir,'orbits','POEORB')\n",
    "restituted_orb_download_folder = os.path.join(data_dir,'orbits','RESORB')\n",
    "dem_download_folder = os.path.join(data_dir,'dem')"
   ]
  },
  {
   "cell_type": "markdown",
   "metadata": {},
   "source": [
    "# Credentials"
   ]
  },
  {
   "cell_type": "code",
   "execution_count": null,
   "metadata": {},
   "outputs": [],
   "source": [
    "# read credentials from file\n",
    "with open(credentials_path, \"r\") as f:\n",
    "   txt = str(f.read())\n",
    "   uid = txt.split('\\n')[1].split('login')[-1][1:]\n",
    "   pswd = txt.split('\\n')[2].split('password')[-1][1:]\n",
    "   email = txt.split('\\n')[3].split('email')[-1][1:]"
   ]
  },
  {
   "cell_type": "markdown",
   "metadata": {},
   "source": [
    "# AOI"
   ]
  },
  {
   "cell_type": "code",
   "execution_count": null,
   "metadata": {},
   "outputs": [],
   "source": [
    "wkt = \"POINT (130.7085216 -16.0044816)\" # South Australia\n",
    "wkt = \"POINT (110.526792 -66.282343)\" # Casey station Antarctica\n",
    "print(f'Searching over point: {wkt}')"
   ]
  },
  {
   "cell_type": "markdown",
   "metadata": {},
   "source": [
    "# Search"
   ]
  },
  {
   "cell_type": "markdown",
   "metadata": {},
   "source": [
    "### General time and area search"
   ]
  },
  {
   "cell_type": "code",
   "execution_count": null,
   "metadata": {},
   "outputs": [],
   "source": [
    "# product type https://github.com/asfadmin/Discovery-asf_search/blob/master/asf_search/constants/PRODUCT_TYPE.py\n",
    "# prod = 'GRD_HS' # IW\n",
    "# prod = 'GRD_MD' # EW\n",
    "\n",
    "# prod = 'GRD_HD'\n",
    "# prod = 'GRD_MS'\n",
    "# prod = 'GRD_FD'\n",
    "prod = 'SLC'\n",
    "\n",
    "# acquisition mode\n",
    "mode = 'IW'\n",
    "#mode = 'EW'\n",
    "\n",
    "results = asf.search(platform=[asf.PLATFORM.SENTINEL1], \n",
    "                     intersectsWith=wkt, \n",
    "                     maxResults=10, \n",
    "                     processingLevel=prod,\n",
    "                     beamMode=mode,\n",
    "                     start='2021-12-31T11:59:59Z',\n",
    "                     end='2022-01-19T11:59:59Z')\n",
    "print(len(results))"
   ]
  },
  {
   "cell_type": "markdown",
   "metadata": {},
   "source": [
    "### Search for known products"
   ]
  },
  {
   "cell_type": "code",
   "execution_count": null,
   "metadata": {},
   "outputs": [],
   "source": [
    "search_list = True\n",
    "if search_list:\n",
    "\n",
    "    prod = 'SLC'\n",
    "    mode = 'IW'\n",
    "    \n",
    "    scene_list = ['S1B_IW_SLC__1SSH_20190223T222639_20190223T222706_015079_01C2E9_1D63', \n",
    "   ]\n",
    "\n",
    "    # search the scene list with the specified product type\n",
    "    results = asf.granule_search(scene_list, asf.ASFSearchOptions(processingLevel=prod))"
   ]
  },
  {
   "cell_type": "code",
   "execution_count": null,
   "metadata": {},
   "outputs": [],
   "source": [
    "for r in results:\n",
    "    print(r.__dict__['umm']['GranuleUR'].split('-')[0])\n",
    "    print(r.__dict__['umm']['AdditionalAttributes'][1]['Values'],\n",
    "          r.__dict__['umm']['AdditionalAttributes'][17],\n",
    "          r.__dict__['umm']['OrbitCalculatedSpatialDomains'][0]) #[1] #['FRAME_NUMBER']\n",
    "    print(r.__dict__['umm']['SpatialExtent'])"
   ]
  },
  {
   "cell_type": "markdown",
   "metadata": {},
   "source": [
    "# Download Scenes"
   ]
  },
  {
   "cell_type": "code",
   "execution_count": null,
   "metadata": {},
   "outputs": [],
   "source": [
    "# download\n",
    "session = asf.ASFSession()\n",
    "session.auth_with_creds(uid,pswd)"
   ]
  },
  {
   "cell_type": "code",
   "execution_count": null,
   "metadata": {},
   "outputs": [],
   "source": [
    "# download all results\n",
    "scene_paths = []\n",
    "scene_names = []\n",
    "for scene in results:\n",
    "    name = scene.__dict__['umm']['GranuleUR'].split('-')[0]\n",
    "    scene_names.append(name)\n",
    "    print(name)\n",
    "    path = os.path.join(download_folder, name)\n",
    "    scene.download(path=download_folder, session=session)\n",
    "    scene_paths.append(path)"
   ]
  },
  {
   "cell_type": "markdown",
   "metadata": {},
   "source": [
    "# Download Precise Orbit Files"
   ]
  },
  {
   "cell_type": "code",
   "execution_count": null,
   "metadata": {},
   "outputs": [],
   "source": [
    "for scene in  scene_paths:\n",
    "    # download precise orbits\n",
    "    download_eofs(sentinel_file=scene, save_dir=precise_orb_download_folder, orbit_type='precise')\n",
    "    # download restituted orbits\n",
    "    download_eofs(sentinel_file=scene, save_dir=restituted_orb_download_folder, orbit_type='restituted')"
   ]
  },
  {
   "cell_type": "code",
   "execution_count": null,
   "metadata": {},
   "outputs": [],
   "source": [
    "print('precise orbits')\n",
    "for p in os.listdir(precise_orb_download_folder):\n",
    "    print(os.path.join(precise_orb_download_folder,p))\n",
    "\n",
    "print('restited orbits')\n",
    "for p in os.listdir(restituted_orb_download_folder):\n",
    "    print(os.path.join(restituted_orb_download_folder,p))"
   ]
  },
  {
   "cell_type": "markdown",
   "metadata": {},
   "source": [
    "# DEMs"
   ]
  },
  {
   "cell_type": "code",
   "execution_count": null,
   "metadata": {},
   "outputs": [],
   "source": [
    "# add your credentials to a .netrc file\n",
    "# https://pypi.org/project/dem-stitcher/"
   ]
  },
  {
   "cell_type": "code",
   "execution_count": null,
   "metadata": {},
   "outputs": [],
   "source": [
    "import rasterio\n",
    "from dem_stitcher import stitch_dem\n",
    "from shapely.geometry import Polygon\n",
    "\n",
    "# valid DEM list here - # https://pypi.org/project/dem-stitcher/\n",
    "dem_name = 'glo_30'  # Global Copernicus 30 meter resolution DEM\n",
    "\n",
    "for r in results:\n",
    "    scene_name = r.__dict__['umm']['GranuleUR'].split('-')[0]\n",
    "    print(r.__dict__['umm']['GranuleUR'].split('-')[0])\n",
    "    points = (r.__dict__['umm']['SpatialExtent']['HorizontalSpatialDomain']\n",
    "              ['Geometry']['GPolygons'][0]['Boundary']['Points'])\n",
    "    points = [(p['Longitude'],p['Latitude']) for p in points]\n",
    "    poly = Polygon(points)\n",
    "    #bounds = poly.bounds # as xmin, ymin, xmax, ymax in epsg:4326\n",
    "    bounds = poly.buffer(1).bounds #buffered\n",
    "    print(f'downloding DEM for scene bounds : {bounds}')\n",
    "    # poly_3031 = transform_polygon(4326, 3031, poly, always_xy=True)\n",
    "    # poly = antimeridian.fix_polygon(poly)\n",
    "   \n",
    "    # get the DEM and geometry information\n",
    "    X, p = stitch_dem(bounds,\n",
    "                    dem_name=dem_name,\n",
    "                    dst_ellipsoidal_height=False,\n",
    "                    dst_area_or_point='Point')\n",
    "\n",
    "    # make folders and set filenames\n",
    "    dem_dl_folder = os.path.join(dem_download_folder,dem_name)\n",
    "    os.makedirs(dem_dl_folder, exist_ok=True)\n",
    "    dem_filename = scene_name + '_dem.tif'\n",
    "    save_path = os.path.join(dem_dl_folder,dem_filename)\n",
    "    \n",
    "    # save with rasterio\n",
    "    print(f'saving dem to {save_path}')\n",
    "    with rasterio.open(save_path, 'w', **p) as ds:\n",
    "        ds.write(X, 1)\n",
    "        ds.update_tags(AREA_OR_POINT='Point')"
   ]
  },
  {
   "cell_type": "code",
   "execution_count": null,
   "metadata": {},
   "outputs": [],
   "source": []
  }
 ],
 "metadata": {
  "kernelspec": {
   "display_name": "pyroSAR",
   "language": "python",
   "name": "python3"
  },
  "language_info": {
   "codemirror_mode": {
    "name": "ipython",
    "version": 3
   },
   "file_extension": ".py",
   "mimetype": "text/x-python",
   "name": "python",
   "nbconvert_exporter": "python",
   "pygments_lexer": "ipython3",
   "version": "3.9.18"
  },
  "orig_nbformat": 4
 },
 "nbformat": 4,
 "nbformat_minor": 2
}
